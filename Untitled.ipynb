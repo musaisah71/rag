{
 "cells": [
  {
   "cell_type": "code",
   "execution_count": 1,
   "id": "f4696f98",
   "metadata": {},
   "outputs": [
    {
     "name": "stdout",
     "output_type": "stream",
     "text": [
      "No local pathlib.py file found.\n"
     ]
    }
   ],
   "source": [
    "# Check for any local file named pathlib.py in the current directory or subdirectories\n",
    "import os\n",
    "\n",
    "# Search for pathlib.py in the current directory and subdirectories\n",
    "for root, dirs, files in os.walk(\".\"):\n",
    "    if \"pathlib.py\" in files:\n",
    "        print(\"Found local pathlib.py at:\", os.path.join(root, \"pathlib.py\"))\n",
    "        break\n",
    "else:\n",
    "    print(\"No local pathlib.py file found.\")"
   ]
  },
  {
   "cell_type": "code",
   "execution_count": null,
   "id": "83f034a6",
   "metadata": {},
   "outputs": [],
   "source": []
  }
 ],
 "metadata": {
  "kernelspec": {
   "display_name": "Python 3 (ipykernel)",
   "language": "python",
   "name": "python3"
  },
  "language_info": {
   "codemirror_mode": {
    "name": "ipython",
    "version": 3
   },
   "file_extension": ".py",
   "mimetype": "text/x-python",
   "name": "python",
   "nbconvert_exporter": "python",
   "pygments_lexer": "ipython3",
   "version": "3.11.4"
  }
 },
 "nbformat": 4,
 "nbformat_minor": 5
}
